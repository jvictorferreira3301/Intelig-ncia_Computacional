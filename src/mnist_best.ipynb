{
 "cells": [
  {
   "cell_type": "code",
   "execution_count": 33,
   "metadata": {},
   "outputs": [],
   "source": [
    "import numpy as np\n",
    "import matplotlib.pyplot as plt\n",
    "import seaborn as sn\n",
    "\n",
    "from sklearn.datasets import fetch_openml\n",
    "from sklearn.model_selection import GridSearchCV\n",
    "from sklearn.metrics import accuracy_score, confusion_matrix,  classification_report, ConfusionMatrixDisplay\n",
    "from sklearn import svm\n",
    "from sklearn.naive_bayes import GaussianNB\n",
    "from sklearn.tree import DecisionTreeClassifier, plot_tree"
   ]
  },
  {
   "cell_type": "markdown",
   "metadata": {},
   "source": [
    "## Importing data"
   ]
  },
  {
   "cell_type": "code",
   "execution_count": 34,
   "metadata": {},
   "outputs": [
    {
     "name": "stdout",
     "output_type": "stream",
     "text": [
      "[[0 0 0 ... 0 0 0]\n",
      " [0 0 0 ... 0 0 0]\n",
      " [0 0 0 ... 0 0 0]\n",
      " ...\n",
      " [0 0 0 ... 0 0 0]\n",
      " [0 0 0 ... 0 0 0]\n",
      " [0 0 0 ... 0 0 0]]\n",
      "(70000, 784)\n",
      "['5' '0' '4' ... '4' '5' '6']\n",
      "(70000,)\n"
     ]
    }
   ],
   "source": [
    "mnist = fetch_openml('mnist_784', as_frame=False) # loading 70000 28x28 images (784 features each)\n",
    "\n",
    "X, y = mnist.data, mnist.target\n",
    "\n",
    "print(X)\n",
    "print(X.shape)\n",
    "\n",
    "print(y)\n",
    "print(y.shape)"
   ]
  },
  {
   "cell_type": "markdown",
   "metadata": {},
   "source": [
    "## PSNR Generation\n"
   ]
  },
  {
   "cell_type": "markdown",
   "metadata": {},
   "source": [
    "$PSNR = 10 \\cdot \\log_{10}(\\frac{MAX^2}{MSE})$\n",
    "\n",
    "$\\frac{PSNR}{10} = \\log_{10}(\\frac{MAX^2}{MSE})$\n",
    "\n",
    "$10^\\frac{PSNR}{10} = \\frac{MAX^2}{MSE}$\n",
    "\n",
    "$MSE = \\frac{MAX^2}{10^\\frac{PSNR}{10}}$\n",
    "\n",
    "The value of MAX is 255 and we want a PSNR of 10dB, so the equation is:\n",
    "\n",
    "$MSE = \\frac{255^2}{10^{\\frac{10}{10}}} = 6502.5$"
   ]
  },
  {
   "cell_type": "code",
   "execution_count": 35,
   "metadata": {},
   "outputs": [],
   "source": [
    "def gen_10db_psnr():\n",
    "    gaussian_noise = np.random.normal(0, np.sqrt(6502.5), X.shape[1])\n",
    "\n",
    "    # mse = np.sum(gaussian_noise**2) / X.shape[1]\n",
    "    # psnr = 10 * np.log10(255**2 / mse)\n",
    "    # print(f'PSNR = {psnr} dB')\n",
    "\n",
    "    return gaussian_noise"
   ]
  },
  {
   "cell_type": "code",
   "execution_count": 36,
   "metadata": {},
   "outputs": [],
   "source": [
    "X_noisy = X.copy()\n",
    "\n",
    "# Add 10dB PSNR to each image\n",
    "for i in range(X.shape[0]):\n",
    "    X_noisy[i] = X_noisy[i] + gen_10db_psnr()"
   ]
  },
  {
   "cell_type": "markdown",
   "metadata": {},
   "source": [
    "## Separating Data\n",
    "\n",
    "- Train: 70%\n",
    "- Validation: 10%\n",
    "- Test: 20%"
   ]
  },
  {
   "cell_type": "code",
   "execution_count": 37,
   "metadata": {},
   "outputs": [],
   "source": [
    "# MNIST is already split and into train and test, and is already shuffled!\n",
    "X_train, X_val, X_test, y_train, y_val, y_test = X[:49000], X[49000:56000], X[56000:], y[:49000], y[49000:56000], y[56000:]\n",
    "\n",
    "Xn_train, Xn_val, Xn_test = X_noisy[:49000], X_noisy[49000:56000], X_noisy[56000:]"
   ]
  },
  {
   "cell_type": "code",
   "execution_count": 38,
   "metadata": {},
   "outputs": [
    {
     "name": "stdout",
     "output_type": "stream",
     "text": [
      "49000\n"
     ]
    }
   ],
   "source": [
    "print(len(X_train))"
   ]
  },
  {
   "cell_type": "markdown",
   "metadata": {},
   "source": [
    "## Support Vector Machine"
   ]
  },
  {
   "cell_type": "markdown",
   "metadata": {},
   "source": [
    "### Training original dataset"
   ]
  },
  {
   "cell_type": "code",
   "execution_count": 39,
   "metadata": {},
   "outputs": [],
   "source": [
    "# Best params: \n",
    "# {'C': 10, 'gamma': 'scale', 'kernel': 'rbf'}\n",
    "def train_predictSVM(X_train, y_train):\n",
    "    svm_mnist = svm.SVC(C=10, gamma='scale', kernel='rbf')\n",
    "    svm_mnist.fit(X_train, y_train)\n",
    "    svm_predict = svm_mnist.predict(X_test)\n",
    "    acc = accuracy_score(y_test, svm_predict)\n",
    "    return acc"
   ]
  },
  {
   "cell_type": "code",
   "execution_count": 40,
   "metadata": {},
   "outputs": [
    {
     "name": "stdout",
     "output_type": "stream",
     "text": [
      "\n",
      "Training with 100 samples...\n"
     ]
    },
    {
     "name": "stdout",
     "output_type": "stream",
     "text": [
      " Accuracy is 0.7058571428571428\n",
      "\n",
      "Training with 500 samples...\n",
      " Accuracy is 0.8858571428571429\n",
      "\n",
      "Training with 1000 samples...\n",
      " Accuracy is 0.923\n",
      "\n",
      "Training with 5000 samples...\n",
      " Accuracy is 0.9595714285714285\n",
      "\n",
      "Training with 10000 samples...\n",
      " Accuracy is 0.9704285714285714\n",
      "\n",
      "Training with 15000 samples...\n",
      " Accuracy is 0.9747142857142858\n",
      "\n",
      "Training with 20000 samples...\n",
      " Accuracy is 0.9778571428571429\n",
      "\n",
      "Training with 25000 samples...\n",
      " Accuracy is 0.9797142857142858\n",
      "\n",
      "Training with 30000 samples...\n",
      " Accuracy is 0.9807142857142858\n",
      "\n",
      "Training with 350000 samples...\n",
      " Accuracy is 0.9841428571428571\n",
      "\n",
      "Training with 40000 samples...\n",
      " Accuracy is 0.9818571428571429\n",
      "\n",
      "Training with 49000 samples...\n",
      " Accuracy is 0.9841428571428571\n"
     ]
    }
   ],
   "source": [
    "num_samples = [100, 500, 1000, 5000, 10000, 15000, 20000, 25000, 30000, 35000, 40000, 49000]\n",
    "\n",
    "accs = []\n",
    "\n",
    "for i in range(len(num_samples)):\n",
    "    print(f'\\nTraining with {num_samples[i]} samples...')\n",
    "    accs.append(train_predictSVM(X_train[:num_samples[i]], y_train[:num_samples[i]]))\n",
    "    print(f' Accuracy is {accs[i]}')"
   ]
  },
  {
   "cell_type": "code",
   "execution_count": 66,
   "metadata": {},
   "outputs": [
    {
     "data": {
      "text/plain": [
       "Text(0, 0.5, 'Test Accuracy')"
      ]
     },
     "execution_count": 66,
     "metadata": {},
     "output_type": "execute_result"
    },
    {
     "data": {
      "image/png": "[encoded data removed]",
      "text/plain": [
       "<Figure size 1000x400 with 1 Axes>"
      ]
     },
     "metadata": {},
     "output_type": "display_data"
    }
   ],
   "source": [
    "plt.figure(figsize=(10, 4))\n",
    "sn.pointplot(x=num_samples, y=accs, linestyles='--')\n",
    "plt.grid(True)\n",
    "plt.xlabel('Number of Training Samples')\n",
    "plt.ylabel('Test Accuracy')\n"
   ]
  }
 ],
 "metadata": {
  "kernelspec": {
   "display_name": "base",
   "language": "python",
   "name": "python3"
  },
  "language_info": {
   "codemirror_mode": {
    "name": "ipython",
    "version": 3
   },
   "file_extension": ".py",
   "mimetype": "text/x-python",
   "name": "python",
   "nbconvert_exporter": "python",
   "pygments_lexer": "ipython3",
   "version": "3.10.11"
  }
 },
 "nbformat": 4,
 "nbformat_minor": 2
}
